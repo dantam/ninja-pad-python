{
 "cells": [
  {
   "cell_type": "code",
   "execution_count": 1,
   "metadata": {},
   "outputs": [],
   "source": [
    "import logging\n",
    "logging.basicConfig(level=logging.DEBUG)"
   ]
  },
  {
   "cell_type": "code",
   "execution_count": 2,
   "metadata": {},
   "outputs": [],
   "source": [
    "import sys\n",
    "sys.path.append('..')\n",
    "\n",
    "from demo.driver import drive\n",
    "from demo.shared_params import defaults as params\n",
    "from demo.runenv import Simulation"
   ]
  },
  {
   "cell_type": "code",
   "execution_count": 3,
   "metadata": {},
   "outputs": [],
   "source": [
    "params.steps = 'all'\n",
    "params.debug = True\n",
    "params.one_time_pad_length = 64\n",
    "params.num_users = 2\n",
    "params.user_log_frequency = 1\n",
    "params.patient_zero_prob = 1\n",
    "params.basedir='../demo'"
   ]
  },
  {
   "cell_type": "code",
   "execution_count": 4,
   "metadata": {},
   "outputs": [
    {
     "data": {
      "text/plain": [
       "Namespace(auth_to_key_files='{\"personal_authorities\": [1, \"pa_auth\"], \"location_authorities\": [2, \"la_auth\"], \"medical_authorities\": [3, \"ma_auth\"], \"privacy_enforcers\": [4, \"pe_auth\"]}', basedir='../demo', client_config='client_config.json', config_dir='configs', db_config='db_conf.json', db_dir='dbs', debug=True, key_config='key_conf.json', key_dir='keys', key_size=8192, num_days=10, num_users=2, numx=1, one_time_pad_length=64, patient_zero_prob=1, public_exponent=65537, public_key_file_extension='pem', round=None, speed=2, steps='all', user_log_frequency=1, xmax=100, xmin=0)"
      ]
     },
     "execution_count": 4,
     "metadata": {},
     "output_type": "execute_result"
    }
   ],
   "source": [
    "params"
   ]
  },
  {
   "cell_type": "code",
   "execution_count": 5,
   "metadata": {},
   "outputs": [],
   "source": [
    "sim = Simulation(params)"
   ]
  },
  {
   "cell_type": "code",
   "execution_count": 6,
   "metadata": {},
   "outputs": [
    {
     "data": {
      "text/plain": [
       "array([[550, 454, 380, 396, 426, 339, 408, 527, 545, 576, 587, 673, 620,\n",
       "        610, 569, 562, 450, 456, 398, 363, 284, 330, 255, 327, 324],\n",
       "       [654, 720, 748, 652, 612, 601, 605, 562, 534, 492, 442, 366, 473,\n",
       "        346, 288, 347, 384, 364, 451, 446, 485, 500, 538, 560, 740]])"
      ]
     },
     "execution_count": 6,
     "metadata": {},
     "output_type": "execute_result"
    }
   ],
   "source": [
    "sim.brownian()"
   ]
  },
  {
   "cell_type": "code",
   "execution_count": 7,
   "metadata": {},
   "outputs": [
    {
     "name": "stderr",
     "output_type": "stream",
     "text": [
      "DEBUG:root:clean up env\n",
      "INFO:root:Removing: ../demo/configs\n",
      "INFO:root:Removing: ../demo/dbs\n",
      "INFO:root:Removing: ../demo/keys\n",
      "DEBUG:root:env cleaned\n",
      "DEBUG:root:setting env\n",
      "DEBUG:root:env ready\n",
      "DEBUG:root:simulate now\n",
      "INFO:root:user 0 notified on 2019-03-30 15:18:36.821191\n",
      "INFO:root:user 1 notified on 2019-03-30 15:18:36.821191\n",
      "INFO:root:user 0 notified on 2019-03-31 15:18:36.821191\n",
      "INFO:root:user 1 notified on 2019-03-31 15:18:36.821191\n",
      "INFO:root:user 0 notified on 2019-04-01 15:18:36.821191\n",
      "INFO:root:user 1 notified on 2019-04-01 15:18:36.821191\n",
      "INFO:root:user 0 notified on 2019-04-02 15:18:36.821191\n",
      "INFO:root:user 1 notified on 2019-04-02 15:18:36.821191\n",
      "INFO:root:user 0 notified on 2019-04-03 15:18:36.821191\n",
      "INFO:root:user 1 notified on 2019-04-03 15:18:36.821191\n",
      "INFO:root:user 0 notified on 2019-04-04 15:18:36.821191\n",
      "INFO:root:user 1 notified on 2019-04-04 15:18:36.821191\n",
      "INFO:root:user 0 notified on 2019-04-05 15:18:36.821191\n",
      "INFO:root:user 1 notified on 2019-04-05 15:18:36.821191\n",
      "INFO:root:user 0 notified on 2019-04-06 15:18:36.821191\n",
      "INFO:root:user 1 notified on 2019-04-06 15:18:36.821191\n",
      "INFO:root:user 0 notified on 2019-04-07 15:18:36.821191\n",
      "INFO:root:user 1 notified on 2019-04-07 15:18:36.821191\n",
      "INFO:root:user 0 notified on 2019-04-08 15:18:36.821191\n",
      "INFO:root:user 1 notified on 2019-04-08 15:18:36.821191\n",
      "INFO:root:[{'day': 0}, {'day': 1}, {'day': 2}, {'day': 3}, {'day': 4}, {'day': 5}, {'day': 6}, {'day': 7}, {'day': 8}, {'day': 9}]\n"
     ]
    }
   ],
   "source": [
    "drive(params)"
   ]
  }
 ],
 "metadata": {
  "kernelspec": {
   "display_name": "Python 3",
   "language": "python",
   "name": "python3"
  },
  "language_info": {
   "codemirror_mode": {
    "name": "ipython",
    "version": 3
   },
   "file_extension": ".py",
   "mimetype": "text/x-python",
   "name": "python",
   "nbconvert_exporter": "python",
   "pygments_lexer": "ipython3",
   "version": "3.7.3"
  }
 },
 "nbformat": 4,
 "nbformat_minor": 2
}
